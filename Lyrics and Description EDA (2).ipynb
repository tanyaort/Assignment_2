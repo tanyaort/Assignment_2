{
 "cells": [
  {
   "cell_type": "markdown",
   "id": "7f79baf9",
   "metadata": {},
   "source": [
    "# Tanya Ortega \n",
    "\n",
    "## MADS 509 \n",
    "\n",
    "## Assignment 2\n",
    "\n",
    "\n"
   ]
  },
  {
   "cell_type": "markdown",
   "id": "7e8130a9-1c5d-458c-999f-f40075c3e31f",
   "metadata": {},
   "source": [
    "# ADS 509 Assignment 2.1: Tokenization, Normalization, Descriptive Statistics \n",
    "\n",
    "This notebook holds Assignment 2.1 for Module 2 in ADS 509, Applied Text Mining. Work through this notebook, writing code and answering questions where required. \n",
    "\n",
    "In the previous assignment you put together Twitter data and lyrics data on two artists. In this assignment we explore some of the textual features of those data sets. If, for some reason, you did not complete that previous assignment, data to use for this assignment can be found in the assignment materials section of Blackboard. \n",
    "\n",
    "This assignment asks you to write a short function to calculate some descriptive statistics on a piece of text. Then you are asked to find some interesting and unique statistics on your corpora. \n"
   ]
  },
  {
   "cell_type": "code",
   "execution_count": 2,
   "id": "50d1c2af-6659-43d7-94f0-6a2974f39cb7",
   "metadata": {},
   "outputs": [
    {
     "name": "stderr",
     "output_type": "stream",
     "text": [
      "[nltk_data] Downloading package stopwords to\n",
      "[nltk_data]     C:\\Users\\tanya\\AppData\\Roaming\\nltk_data...\n",
      "[nltk_data]   Unzipping corpora\\stopwords.zip.\n"
     ]
    },
    {
     "data": {
      "text/plain": [
       "True"
      ]
     },
     "execution_count": 2,
     "metadata": {},
     "output_type": "execute_result"
    }
   ],
   "source": [
    "import sys\n",
    "!{sys.executable} -m pip install --quiet emoji nltk pandas numpy\n",
    "import nltk\n",
    "nltk.download('stopwords')"
   ]
  },
  {
   "cell_type": "code",
   "execution_count": 4,
   "id": "e2d096b7",
   "metadata": {},
   "outputs": [],
   "source": [
    "import os\n",
    "import re\n",
    "import emoji\n",
    "import pandas as pd\n",
    "import numpy as np\n",
    "\n",
    "from collections import Counter, defaultdict\n",
    "from nltk.corpus import stopwords\n",
    "from string import punctuation\n",
    "\n",
    "sw = stopwords.words(\"english\")"
   ]
  },
  {
   "cell_type": "code",
   "execution_count": 9,
   "id": "26670967-7076-4034-8f5d-c1241bea8b25",
   "metadata": {},
   "outputs": [
    {
     "name": "stdout",
     "output_type": "stream",
     "text": [
      "DATA exists?    True\n",
      "TWITTER exists? True\n",
      "LYRICS exists?  True\n",
      "\n",
      "Top-level in DATA: ['lyrics', 'twitter']\n",
      "Sample lyric files: [WindowsPath('C:/Users/tanya/Downloads/M1 Assignment Data/M1 Results/lyrics/cher/cher_88degrees.txt'), WindowsPath('C:/Users/tanya/Downloads/M1 Assignment Data/M1 Results/lyrics/cher/cher_adifferentkindoflovesong.txt'), WindowsPath('C:/Users/tanya/Downloads/M1 Assignment Data/M1 Results/lyrics/cher/cher_afterall.txt'), WindowsPath('C:/Users/tanya/Downloads/M1 Assignment Data/M1 Results/lyrics/cher/cher_again.txt'), WindowsPath('C:/Users/tanya/Downloads/M1 Assignment Data/M1 Results/lyrics/cher/cher_alfie.txt')]\n"
     ]
    }
   ],
   "source": [
    "from pathlib import Path\n",
    "\n",
    "# M1 Results folder\n",
    "DATA = Path(r\"C:\\Users\\tanya\\Downloads\\M1 Assignment Data\\M1 Results\")\n",
    "\n",
    "TWITTER_DIR = DATA / \"twitter\"\n",
    "LYRICS_DIR  = DATA / \"lyrics\"\n",
    "\n",
    "print(\"DATA exists?   \", DATA.exists())\n",
    "print(\"TWITTER exists?\", TWITTER_DIR.exists())\n",
    "print(\"LYRICS exists? \", LYRICS_DIR.exists())\n",
    "print(\"\\nTop-level in DATA:\", [p.name for p in DATA.iterdir() if p.is_dir()])\n",
    "print(\"Sample lyric files:\", list(LYRICS_DIR.glob(\"**/*.txt\"))[:5])"
   ]
  },
  {
   "cell_type": "code",
   "execution_count": null,
   "id": "06522af9",
   "metadata": {},
   "outputs": [],
   "source": [
    "def descriptive_stats(tokens, num_tokens = 5, verbose=True) :\n",
    "    \"\"\"\n",
    "        Given a list of tokens, print number of tokens, number of unique tokens, \n",
    "        number of characters, lexical diversity (https://en.wikipedia.org/wiki/Lexical_diversity), \n",
    "        and num_tokens most common tokens. Return a list with the number of tokens, number\n",
    "        of unique tokens, lexical diversity, and number of characters. \n",
    "    \n",
    "    \"\"\"\n",
    "\n",
    "    # Fill in the correct values here. \n",
    "    num_tokens = 0\n",
    "    num_unique_tokens = 0\n",
    "    lexical_diversity = 0.0\n",
    "    num_characters = 0\n",
    "    \n",
    "    if verbose :        \n",
    "        print(f\"There are {num_tokens} tokens in the data.\")\n",
    "        print(f\"There are {num_unique_tokens} unique tokens in the data.\")\n",
    "        print(f\"There are {num_characters} characters in the data.\")\n",
    "        print(f\"The lexical diversity is {lexical_diversity:.3f} in the data.\")\n",
    "    \n",
    "        # print the five most common tokens\n",
    "        \n",
    "    return([num_tokens, num_unique_tokens,\n",
    "            lexical_diversity,\n",
    "            num_characters])\n",
    "    "
   ]
  },
  {
   "cell_type": "code",
   "execution_count": 10,
   "id": "bf04c7ce-4364-46f5-8b87-379aada19829",
   "metadata": {},
   "outputs": [],
   "source": [
    "from collections import Counter\n",
    "\n",
    "def descriptive_stats(tokens, num_tokens=5, verbose=True):\n",
    "    \"\"\"\n",
    "    Given a list of tokens, print number of tokens, number of unique tokens,\n",
    "    number of characters, lexical diversity (type–token ratio),\n",
    "    and the num_tokens most common tokens. \n",
    "    Return [num_tokens, num_unique_tokens, lexical_diversity, num_characters].\n",
    "    \"\"\"\n",
    "    # core stats\n",
    "    n_tokens = len(tokens)\n",
    "    n_unique_tokens = len(set(tokens))\n",
    "    lexical_diversity = (n_unique_tokens / n_tokens) if n_tokens else 0.0\n",
    "    num_characters = sum(len(t) for t in tokens)\n",
    "\n",
    "    if verbose:\n",
    "        print(f\"There are {n_tokens} tokens in the data.\")\n",
    "        print(f\"There are {n_unique_tokens} unique tokens in the data.\")\n",
    "        print(f\"There are {num_characters} characters in the data.\")\n",
    "        print(f\"The lexical diversity is {lexical_diversity:.3f} in the data.\")\n",
    "        # top-k most common tokens\n",
    "        top = Counter(tokens).most_common(num_tokens)\n",
    "        if top:\n",
    "            print(f\"\\nTop {num_tokens} tokens:\")\n",
    "            for tok, cnt in top:\n",
    "                print(f\"  {tok}: {cnt}\")\n",
    "\n",
    "    return [n_tokens, n_unique_tokens, lexical_diversity, num_characters]"
   ]
  },
  {
   "cell_type": "code",
   "execution_count": 11,
   "id": "59dcf058",
   "metadata": {},
   "outputs": [
    {
     "name": "stdout",
     "output_type": "stream",
     "text": [
      "There are 13 tokens in the data.\n",
      "There are 9 unique tokens in the data.\n",
      "There are 55 characters in the data.\n",
      "The lexical diversity is 0.692 in the data.\n",
      "\n",
      "Top 5 tokens:\n",
      "  text: 3\n",
      "  here: 2\n",
      "  example: 2\n",
      "  is: 1\n",
      "  some: 1\n"
     ]
    }
   ],
   "source": [
    "text = \"\"\"here is some example text with other example text here in this text\"\"\".split()\n",
    "assert(descriptive_stats(text, verbose=True)[0] == 13)\n",
    "assert(descriptive_stats(text, verbose=False)[1] == 9)\n",
    "assert(abs(descriptive_stats(text, verbose=False)[2] - 0.69) < 0.02)\n",
    "assert(descriptive_stats(text, verbose=False)[3] == 55)"
   ]
  },
  {
   "cell_type": "markdown",
   "id": "d2e7e1a2",
   "metadata": {},
   "source": [
    "Q: Why is it beneficial to use assertion statements in your code? \n",
    "\n",
    "A: Assertion statements are beneficial in code because they automatically stop the program if something isn't what you expect, so the mistakes show up right away instead of errors appearing later. Overall, this makes bugs easier to find. "
   ]
  },
  {
   "cell_type": "markdown",
   "id": "9d3bf93e",
   "metadata": {},
   "source": [
    "## Data Input\n",
    "\n",
    "Now read in each of the corpora. For the lyrics data, it may be convenient to store the entire contents of the file to make it easier to inspect the titles individually, as you'll do in the last part of the assignment. In the solution, I stored the lyrics data in a dictionary with two dimensions of keys: artist and song. The value was the file contents. A data frame would work equally well. \n",
    "\n",
    "For the Twitter data, we only need the description field for this assignment. Feel free all the descriptions read it into a data structure. In the solution, I stored the descriptions as a dictionary of lists, with the key being the artist. \n",
    "\n",
    "\n"
   ]
  },
  {
   "cell_type": "code",
   "execution_count": 12,
   "id": "37d70801",
   "metadata": {},
   "outputs": [
    {
     "name": "stdout",
     "output_type": "stream",
     "text": [
      "cher: 313 songs | sample titles: ['\"88 Degrees\"', '\"A Different Kind Of Love Song\"', '\"After All\"']\n",
      "robyn: 93 songs | sample titles: ['\"88 Days\"', '\"Ain\\'t No Thing\"', '\"Anytime You Like\"']\n"
     ]
    }
   ],
   "source": [
    "# Read in the lyrics data\n",
    "from pathlib import Path\n",
    "\n",
    "lyrics_dict = {}\n",
    "\n",
    "for artist_dir in LYRICS_DIR.iterdir():\n",
    "    if not artist_dir.is_dir():\n",
    "        continue\n",
    "    artist = artist_dir.name\n",
    "    lyrics_dict[artist] = {}\n",
    "    for fp in sorted(artist_dir.glob(\"*.txt\")):\n",
    "        txt = fp.read_text(encoding=\"utf-8\", errors=\"ignore\")\n",
    "        lines = txt.splitlines()\n",
    "        title = lines[0].strip() if lines else fp.stem\n",
    "        body  = \"\\n\".join(lines[2:]) if len(lines) > 2 else txt\n",
    "        lyrics_dict[artist][title] = body\n",
    "\n",
    "# check\n",
    "for a, songs in lyrics_dict.items():\n",
    "    print(f\"{a}: {len(songs)} songs | sample titles: {list(songs.keys())[:3]}\")"
   ]
  },
  {
   "cell_type": "code",
   "execution_count": 16,
   "id": "debcac5a",
   "metadata": {},
   "outputs": [],
   "source": [
    "# Read in the twitter data\n",
    "import pandas as pd\n",
    "import re\n",
    "\n",
    "twitter_desc = {}\n",
    "\n",
    "for csv_path in sorted(TWITTER_DIR.glob(\"*.csv\")):\n",
    "    # infer artist from filename (e.g., \"cher_followers.csv\" -> \"cher\")\n",
    "    artist = re.sub(r'_?followers.*$', '', csv_path.stem, flags=re.I)\n",
    "\n",
    "    df = pd.read_csv(csv_path, low_memory=False)\n",
    "    # find the description column\n",
    "    desc_col = next((c for c in [\"description\", \"bio\", \"user_description\"] if c in df.columns), None)\n",
    "    if desc_col is None:\n",
    "        print(f\"WARNING: No description column in {csv_path.name}. Columns: {df.columns[:8].tolist()}\")\n",
    "        continue\n",
    "\n",
    "    descs = (\n",
    "        df[desc_col]\n",
    "        .dropna()\n",
    "        .astype(str)\n",
    "        .str.strip()\n",
    "    )\n",
    "    twitter_desc.setdefault(artist, []).extend([d for d in descs if d])\n",
    "\n",
    "# check\n",
    "for a, lst in twitter_desc.items():\n",
    "    print(f\"{a}: {len(lst)} descriptions | sample: {lst[:3]}\")"
   ]
  },
  {
   "cell_type": "markdown",
   "id": "6a5f3b12",
   "metadata": {},
   "source": [
    "## Data Cleaning\n",
    "\n",
    "Now clean and tokenize your data. Remove punctuation chacters (available in the `punctuation` object in the `string` library), split on whitespace, fold to lowercase, and remove stopwords. Store your cleaned data, which must be accessible as an interable for `descriptive_stats`, in new objects or in new columns in your data frame. \n",
    "\n"
   ]
  },
  {
   "cell_type": "code",
   "execution_count": 17,
   "id": "71c73d86",
   "metadata": {},
   "outputs": [],
   "source": [
    "punctuation = set(punctuation) # speeds up comparison"
   ]
  },
  {
   "cell_type": "code",
   "execution_count": 18,
   "id": "b327033a",
   "metadata": {},
   "outputs": [],
   "source": [
    "# clean twitter data \n",
    "from nltk.corpus import stopwords\n",
    "sw = set(stopwords.words(\"english\"))\n",
    "\n",
    "def clean_and_tokenize(text):\n",
    "\n",
    "    toks = []\n",
    "    for w in text.split():\n",
    "        w = w.lower()\n",
    "        w = \"\".join(ch for ch in w if ch not in punctuation) \n",
    "        if w and w not in sw:\n",
    "            toks.append(w)\n",
    "    return toks\n",
    "\n",
    "# Flatten all descriptions per artist\n",
    "twitter_clean = {\n",
    "    artist: [t for desc in descs for t in clean_and_tokenize(desc)]\n",
    "    for artist, descs in twitter_desc.items()\n",
    "}\n",
    "\n",
    "# check\n",
    "for a, toks in twitter_clean.items():\n",
    "    print(f\"{a}: {len(toks)} tokens | sample: {toks[:10]}\")"
   ]
  },
  {
   "cell_type": "code",
   "execution_count": 19,
   "id": "e0f22e10",
   "metadata": {},
   "outputs": [
    {
     "name": "stdout",
     "output_type": "stream",
     "text": [
      "cher: 34901 tokens | sample: ['stuck', 'la', 'aint', 'got', 'friends', 'hollywood', 'nuts', 'many', 'dead', 'ends']\n",
      "robyn: 13019 tokens | sample: ['light', 'candle', 'morning', 'signify', 'still', 'mind', 'darkness', 'arrived', 'without', 'warning']\n"
     ]
    }
   ],
   "source": [
    "# clean lyrics\n",
    "lyrics_clean = {\n",
    "    artist: [t for text in songs.values() for t in clean_and_tokenize(text)]\n",
    "    for artist, songs in lyrics_dict.items()\n",
    "}\n",
    "\n",
    "# quick check\n",
    "for a, toks in lyrics_clean.items():\n",
    "    print(f\"{a}: {len(toks)} tokens | sample: {toks[:10]}\")"
   ]
  },
  {
   "cell_type": "markdown",
   "id": "f2dd0179",
   "metadata": {},
   "source": [
    "## Basic Descriptive Statistics\n",
    "\n",
    "Call your `descriptive_stats` function on both your lyrics data and your twitter data and for both artists (four total calls). "
   ]
  },
  {
   "cell_type": "code",
   "execution_count": 20,
   "id": "f0bbedd9",
   "metadata": {},
   "outputs": [
    {
     "name": "stdout",
     "output_type": "stream",
     "text": [
      "\n",
      "=== LYRICS — cher ===\n",
      "There are 34901 tokens in the data.\n",
      "There are 3682 unique tokens in the data.\n",
      "There are 167578 characters in the data.\n",
      "The lexical diversity is 0.105 in the data.\n",
      "\n",
      "Top 10 tokens:\n",
      "  love: 917\n",
      "  im: 510\n",
      "  know: 473\n",
      "  dont: 428\n",
      "  youre: 331\n",
      "  baby: 314\n",
      "  time: 313\n",
      "  see: 306\n",
      "  oh: 296\n",
      "  one: 275\n",
      "\n",
      "=== LYRICS — robyn ===\n",
      "There are 13019 tokens in the data.\n",
      "There are 2139 unique tokens in the data.\n",
      "There are 62674 characters in the data.\n",
      "The lexical diversity is 0.164 in the data.\n",
      "\n",
      "Top 10 tokens:\n",
      "  im: 255\n",
      "  dont: 252\n",
      "  love: 238\n",
      "  know: 237\n",
      "  got: 230\n",
      "  baby: 211\n",
      "  like: 203\n",
      "  never: 143\n",
      "  youre: 142\n",
      "  get: 130\n"
     ]
    }
   ],
   "source": [
    "# calls to descriptive_stats \n",
    "for corpus_name, corpus in [(\"TWITTER\", twitter_clean), (\"LYRICS\", lyrics_clean)]:\n",
    "    for artist in sorted(corpus.keys()):\n",
    "        print(f\"\\n=== {corpus_name} — {artist} ===\")\n",
    "        descriptive_stats(corpus[artist], num_tokens=10, verbose=True)"
   ]
  },
  {
   "cell_type": "markdown",
   "id": "46294409",
   "metadata": {},
   "source": [
    "Q: How do you think the \"top 5 words\" would be different if we left stopwords in the data? \n",
    "\n",
    "A: \n",
    "\n",
    "The list would be mostly little filler words like the, and, to, I, you. They’d crowd out the meaningful words, and both artists’ lists would look more alike and less useful.\n",
    "\n",
    "---\n",
    "\n",
    "Q: What were your prior beliefs about the lexical diversity between the artists? Does the difference (or lack thereof) in lexical diversity between the artists conform to your prior beliefs? \n",
    "\n",
    "A: \n",
    "\n",
    "Yes. I thought Robyn might use a wider range of words, and the numbers support this (Robyn's TTR ≈ is approximately 0.164 vs. Cher's approximately ≈ 0.105). Some of that gap is due to Cher having a significantly higher total number of words, but overall, it aligns with my expectations."
   ]
  },
  {
   "cell_type": "markdown",
   "id": "4d4e1ac1",
   "metadata": {},
   "source": [
    "\n",
    "## Specialty Statistics\n",
    "\n",
    "The descriptive statistics we have calculated are quite generic. You will now calculate a handful of statistics tailored to these data.\n",
    "\n",
    "1. Ten most common emojis by artist in the twitter descriptions.\n",
    "1. Ten most common hashtags by artist in the twitter descriptions.\n",
    "1. Five most common words in song titles by artist. \n",
    "1. For each artist, a histogram of song lengths (in terms of number of tokens) \n",
    "\n",
    "We can use the `emoji` library to help us identify emojis and you have been given a function to help you.\n"
   ]
  },
  {
   "cell_type": "code",
   "execution_count": 39,
   "id": "e2014b16-3548-4970-92ae-2d5c13c4496b",
   "metadata": {},
   "outputs": [
    {
     "name": "stdout",
     "output_type": "stream",
     "text": [
      "Requirement already satisfied: emoji in c:\\users\\tanya\\appdata\\local\\programs\\python\\python313\\lib\\site-packages (2.14.1)\n"
     ]
    }
   ],
   "source": [
    "!pip install emoji\n",
    "import emoji"
   ]
  },
  {
   "cell_type": "code",
   "execution_count": 53,
   "id": "753a5a3e",
   "metadata": {},
   "outputs": [],
   "source": [
    "assert(emoji.is_emoji(\"❤️\"))\n",
    "assert(not emoji.is_emoji(\":-)\"))"
   ]
  },
  {
   "cell_type": "markdown",
   "id": "986fc4c0",
   "metadata": {},
   "source": [
    "### Emojis 😁\n",
    "\n",
    "What are the ten most common emojis by artist in the twitter descriptions?"
   ]
  },
  {
   "cell_type": "code",
   "execution_count": 57,
   "id": "d882c86e-33d1-4134-a0d2-62d90cbe5576",
   "metadata": {},
   "outputs": [
    {
     "name": "stdout",
     "output_type": "stream",
     "text": [
      "cher: 2001090 descriptions\n",
      "Sample: ['𝙿𝚛𝚘𝚞𝚍 𝚜𝚞𝚙𝚙𝚘𝚛𝚝𝚎𝚛 𝚘𝚏 𝚖𝚎𝚜𝚜𝚢 𝚋𝚞𝚗𝚜 & 𝚕𝚎𝚐𝚐𝚒𝚗𝚐𝚜', '163㎝／愛かっぷ💜26歳🍒 工〇好きな女の子💓 フォローしてくれたらDMします🧡', 'csu']\n",
      "robynkonichiwa: 190033 descriptions\n",
      "Sample: ['\"I love chill\" •Facebook / Instagram / SoundCloud: AngelxoArts• https://t.co/447okKLKzA…', \"books, movies, music, nature & TV shows. OG Sweetee since '12 thanks to YouTube recommending 'This Feeling' on my homepage ♥️\", '(Am)auteur en herbe 🌱 - juriste en paille 🤡 - Ami des fleurs 🌸🌈 (sans la main verte) - music & books - #morecomingsoon... (si on en voit le bout)']\n"
     ]
    }
   ],
   "source": [
    "from pathlib import Path\n",
    "import re\n",
    "\n",
    "twitter_desc = {}\n",
    "\n",
    "for fp in sorted(TWITTER_DIR.glob(\"*.txt\")):\n",
    "    artist = re.sub(r\"_followers.*$\", \"\", fp.stem)  \n",
    "    descs = []\n",
    "    with fp.open(encoding=\"utf-8\", errors=\"ignore\") as f:\n",
    "        # read header and find the 'description' column index\n",
    "        header = next(f).rstrip(\"\\n\").split(\"\\t\")\n",
    "        header_lc = [h.lower() for h in header]\n",
    "        try:\n",
    "            desc_idx = header_lc.index(\"description\")  \n",
    "        except ValueError:\n",
    "            desc_idx = 6 \n",
    "\n",
    "        # collect descriptions\n",
    "        for line in f:\n",
    "            parts = line.rstrip(\"\\n\").split(\"\\t\")\n",
    "            if len(parts) > desc_idx:\n",
    "                d = parts[desc_idx].strip()\n",
    "                if d:\n",
    "                    descs.append(d)\n",
    "\n",
    "    twitter_desc[artist] = descs\n",
    "\n",
    "# check\n",
    "for artist, descs in twitter_desc.items():\n",
    "    print(f\"{artist}: {len(descs)} descriptions\")\n",
    "    print(\"Sample:\", descs[:3])"
   ]
  },
  {
   "cell_type": "code",
   "execution_count": 58,
   "id": "85843529-831e-4f1d-83ac-9ca6ec59ee83",
   "metadata": {},
   "outputs": [
    {
     "name": "stdout",
     "output_type": "stream",
     "text": [
      "\n",
      "=== cher ===\n",
      "❤: 79223\n",
      "🌈: 47549\n",
      "♥: 33978\n",
      "🏳: 33412\n",
      "✨: 29468\n",
      "💙: 21379\n",
      "🏻: 20930\n",
      "🌊: 20223\n",
      "✌: 16773\n",
      "💜: 16550\n",
      "\n",
      "=== robynkonichiwa ===\n",
      "❤: 4783\n",
      "🌈: 4685\n",
      "🏳: 3528\n",
      "♥: 3103\n",
      "✨: 2223\n",
      "🏻: 1495\n",
      "✌: 1189\n",
      "🏼: 1139\n",
      "♀: 836\n",
      "💙: 809\n"
     ]
    }
   ],
   "source": [
    "import emoji\n",
    "from collections import Counter\n",
    "\n",
    "def extract_emojis(text):\n",
    "    return [ch for ch in text if emoji.is_emoji(ch)]\n",
    "\n",
    "emoji_counts = {}\n",
    "for artist, descs in twitter_desc.items():\n",
    "    all_emojis = []\n",
    "    for d in descs:\n",
    "        all_emojis.extend(extract_emojis(d))\n",
    "    emoji_counts[artist] = Counter(all_emojis).most_common(10)\n",
    "\n",
    "for artist, top_emojis in emoji_counts.items():\n",
    "    print(f\"\\n=== {artist} ===\")\n",
    "    if top_emojis:\n",
    "        for emo, cnt in top_emojis:\n",
    "            print(f\"{emo}: {cnt}\")\n",
    "    else:\n",
    "        print(\"No emojis found.\")"
   ]
  },
  {
   "cell_type": "markdown",
   "id": "bab9b770",
   "metadata": {},
   "source": [
    "### Hashtags\n",
    "\n",
    "What are the ten most common hashtags by artist in the twitter descriptions? \n"
   ]
  },
  {
   "cell_type": "code",
   "execution_count": 59,
   "id": "2956948b-0c45-41d0-a9f2-35a15f17bf0e",
   "metadata": {},
   "outputs": [
    {
     "name": "stdout",
     "output_type": "stream",
     "text": [
      "\n",
      "=== cher — top 10 hashtags ===\n",
      "#resist: 11657\n",
      "#blm: 10466\n",
      "#blacklivesmatter: 8154\n",
      "#theresistance: 3508\n",
      "#fbr: 3419\n",
      "#resistance: 3061\n",
      "#1: 2627\n",
      "#voteblue: 2304\n",
      "#lgbtq: 2074\n",
      "#music: 1602\n",
      "\n",
      "=== robynkonichiwa — top 10 hashtags ===\n",
      "#blacklivesmatter: 601\n",
      "#blm: 362\n",
      "#music: 306\n",
      "#1: 199\n",
      "#teamfollowback: 135\n",
      "#edm: 111\n",
      "#lgbtq: 89\n",
      "#resist: 86\n",
      "#travel: 73\n",
      "#art: 72\n"
     ]
    }
   ],
   "source": [
    "import re\n",
    "from collections import Counter\n",
    "\n",
    "def extract_hashtags(text):\n",
    "    # standard hashtag pattern; keeps unicode letters/numbers/underscores\n",
    "    return re.findall(r\"#\\w+\", text, flags=re.UNICODE)\n",
    "\n",
    "hashtag_counts = {}\n",
    "for artist, descs in twitter_desc.items():\n",
    "    all_tags = []\n",
    "    for d in descs:\n",
    "        all_tags.extend(extract_hashtags(d.lower()))\n",
    "    hashtag_counts[artist] = Counter(all_tags).most_common(10)\n",
    "\n",
    "for artist, top_tags in hashtag_counts.items():\n",
    "    print(f\"\\n=== {artist} — top 10 hashtags ===\")\n",
    "    if top_tags:\n",
    "        for tag, cnt in top_tags:\n",
    "            print(f\"{tag}: {cnt}\")\n",
    "    else:\n",
    "        print(\"No hashtags found.\")"
   ]
  },
  {
   "cell_type": "markdown",
   "id": "d10f21d5",
   "metadata": {},
   "source": [
    "### Song Titles\n",
    "\n",
    "What are the five most common words in song titles by artist? The song titles should be on the first line of the lyrics pages, so if you have kept the raw file contents around, you will not need to re-read the data.\n"
   ]
  },
  {
   "cell_type": "code",
   "execution_count": 31,
   "id": "bb69b36b",
   "metadata": {},
   "outputs": [
    {
     "name": "stdout",
     "output_type": "stream",
     "text": [
      "\n",
      "cher — top 5 title words\n"
     ]
    },
    {
     "data": {
      "text/html": [
       "<div>\n",
       "<style scoped>\n",
       "    .dataframe tbody tr th:only-of-type {\n",
       "        vertical-align: middle;\n",
       "    }\n",
       "\n",
       "    .dataframe tbody tr th {\n",
       "        vertical-align: top;\n",
       "    }\n",
       "\n",
       "    .dataframe thead th {\n",
       "        text-align: right;\n",
       "    }\n",
       "</style>\n",
       "<table border=\"1\" class=\"dataframe\">\n",
       "  <thead>\n",
       "    <tr style=\"text-align: right;\">\n",
       "      <th></th>\n",
       "      <th>word</th>\n",
       "      <th>count</th>\n",
       "    </tr>\n",
       "  </thead>\n",
       "  <tbody>\n",
       "    <tr>\n",
       "      <th>0</th>\n",
       "      <td>the</td>\n",
       "      <td>54</td>\n",
       "    </tr>\n",
       "    <tr>\n",
       "      <th>1</th>\n",
       "      <td>you</td>\n",
       "      <td>44</td>\n",
       "    </tr>\n",
       "    <tr>\n",
       "      <th>2</th>\n",
       "      <td>i</td>\n",
       "      <td>38</td>\n",
       "    </tr>\n",
       "    <tr>\n",
       "      <th>3</th>\n",
       "      <td>love</td>\n",
       "      <td>36</td>\n",
       "    </tr>\n",
       "    <tr>\n",
       "      <th>4</th>\n",
       "      <td>a</td>\n",
       "      <td>28</td>\n",
       "    </tr>\n",
       "  </tbody>\n",
       "</table>\n",
       "</div>"
      ],
      "text/plain": [
       "   word  count\n",
       "0   the     54\n",
       "1   you     44\n",
       "2     i     38\n",
       "3  love     36\n",
       "4     a     28"
      ]
     },
     "metadata": {},
     "output_type": "display_data"
    },
    {
     "name": "stdout",
     "output_type": "stream",
     "text": [
      "\n",
      "robyn — top 5 title words\n"
     ]
    },
    {
     "data": {
      "text/html": [
       "<div>\n",
       "<style scoped>\n",
       "    .dataframe tbody tr th:only-of-type {\n",
       "        vertical-align: middle;\n",
       "    }\n",
       "\n",
       "    .dataframe tbody tr th {\n",
       "        vertical-align: top;\n",
       "    }\n",
       "\n",
       "    .dataframe thead th {\n",
       "        text-align: right;\n",
       "    }\n",
       "</style>\n",
       "<table border=\"1\" class=\"dataframe\">\n",
       "  <thead>\n",
       "    <tr style=\"text-align: right;\">\n",
       "      <th></th>\n",
       "      <th>word</th>\n",
       "      <th>count</th>\n",
       "    </tr>\n",
       "  </thead>\n",
       "  <tbody>\n",
       "    <tr>\n",
       "      <th>0</th>\n",
       "      <td>you</td>\n",
       "      <td>9</td>\n",
       "    </tr>\n",
       "    <tr>\n",
       "      <th>1</th>\n",
       "      <td>me</td>\n",
       "      <td>9</td>\n",
       "    </tr>\n",
       "    <tr>\n",
       "      <th>2</th>\n",
       "      <td>the</td>\n",
       "      <td>7</td>\n",
       "    </tr>\n",
       "    <tr>\n",
       "      <th>3</th>\n",
       "      <td>my</td>\n",
       "      <td>6</td>\n",
       "    </tr>\n",
       "    <tr>\n",
       "      <th>4</th>\n",
       "      <td>love</td>\n",
       "      <td>5</td>\n",
       "    </tr>\n",
       "  </tbody>\n",
       "</table>\n",
       "</div>"
      ],
      "text/plain": [
       "   word  count\n",
       "0   you      9\n",
       "1    me      9\n",
       "2   the      7\n",
       "3    my      6\n",
       "4  love      5"
      ]
     },
     "metadata": {},
     "output_type": "display_data"
    }
   ],
   "source": [
    "from collections import Counter\n",
    "\n",
    "def title_tokens(title: str):\n",
    "    # lowercase and remove punctuation (uses your `punctuation` set from earlier)\n",
    "    clean = \"\".join(ch.lower() if ch not in punctuation else \" \" for ch in title)\n",
    "    return [t for t in clean.split() if t]\n",
    "\n",
    "title_top5 = {}\n",
    "for artist, songs in lyrics_dict.items():\n",
    "    c = Counter()\n",
    "    for t in songs.keys():\n",
    "        c.update(title_tokens(t))\n",
    "    title_top5[artist] = pd.DataFrame(c.most_common(5), columns=[\"word\",\"count\"])\n",
    "    print(f\"\\n{artist} — top 5 title words\")\n",
    "    display(title_top5[artist])"
   ]
  },
  {
   "cell_type": "markdown",
   "id": "5dd4fd71",
   "metadata": {},
   "source": [
    "### Song Lengths\n",
    "\n",
    "For each artist, a histogram of song lengths (in terms of number of tokens). If you put the song lengths in a data frame with an artist column, matplotlib will make the plotting quite easy. An example is given to help you out. \n"
   ]
  },
  {
   "cell_type": "code",
   "execution_count": 68,
   "id": "305c7b15-5a46-4e6d-9430-0554d0112123",
   "metadata": {},
   "outputs": [],
   "source": [
    "import re\n",
    "import pandas as pd\n",
    "import matplotlib.pyplot as plt\n",
    "\n",
    "# tokenizer\n",
    "collapse_whitespace = re.compile(r\"\\s+\")\n",
    "\n",
    "def tokenize_lyrics(text: str):\n",
    "    return [w.lower() for w in collapse_whitespace.split(text) if w]"
   ]
  },
  {
   "cell_type": "code",
   "execution_count": 79,
   "id": "c1ba5c31-024e-4321-8531-7fb18a7e8d5e",
   "metadata": {},
   "outputs": [
    {
     "data": {
      "image/png": "[encoded data removed]",
      "text/plain": [
       "<Figure size 800x500 with 1 Axes>"
      ]
     },
     "metadata": {},
     "output_type": "display_data"
    }
   ],
   "source": [
    "import numpy as np\n",
    "bins = np.arange(0, df_lengths[\"length\"].max()+25, 25)   # common bins\n",
    "\n",
    "plt.figure(figsize=(8,5))\n",
    "for artist, group in df_lengths.groupby(\"artist\"):\n",
    "    n = len(group)\n",
    "    group[\"length\"].plot(kind=\"hist\", bins=bins, alpha=0.45, density=True, label=f\"{artist} (n={n})\")\n",
    "\n",
    "plt.xlabel(\"Tokens per song\")\n",
    "plt.ylabel(\"Density\")\n",
    "plt.title(\"Song length distribution by artist\")\n",
    "plt.legend()\n",
    "plt.show()"
   ]
  },
  {
   "cell_type": "markdown",
   "id": "8fde9ebb",
   "metadata": {},
   "source": [
    "Since the lyrics may be stored with carriage returns or tabs, it may be useful to have a function that can collapse whitespace, using regular expressions, and be used for splitting. \n",
    "\n",
    "Q: What does the regular expression `'\\s+'` match on? \n",
    "\n",
    "A: \n",
    "\n",
    "\\s+ just means “one or more whitespace.” So any chunk of spaces, tabs, or line breaks gets treated as a single split point."
   ]
  },
  {
   "cell_type": "code",
   "execution_count": 80,
   "id": "f0e34516",
   "metadata": {},
   "outputs": [],
   "source": [
    "collapse_whitespace = re.compile(r'\\s+')\n",
    "\n",
    "def tokenize_lyrics(lyric) : \n",
    "    \"\"\"strip and split on whitespace\"\"\"\n",
    "    return([item.lower() for item in collapse_whitespace.split(lyric)])"
   ]
  },
  {
   "cell_type": "code",
   "execution_count": 81,
   "id": "2294c440",
   "metadata": {},
   "outputs": [
    {
     "name": "stdout",
     "output_type": "stream",
     "text": [
      "  artist                            title  length\n",
      "0   cher                     \"88 Degrees\"     325\n",
      "1   cher  \"A Different Kind Of Love Song\"     257\n",
      "2   cher                      \"After All\"     291\n",
      "3   cher                          \"Again\"      79\n",
      "4   cher                          \"Alfie\"     134\n",
      "        count        mean         std   min    25%    50%    75%    max\n",
      "artist                                                                 \n",
      "cher    313.0  219.092652   73.461055  21.0  169.0  209.0  260.0  481.0\n",
      "robyn    93.0  269.913978  114.648106  18.0  186.0  253.0  343.0  633.0\n"
     ]
    }
   ],
   "source": [
    "# Your lyric length comparison chart here. \n",
    "rows = []\n",
    "for artist, songs in lyrics_dict.items():         \n",
    "    for title, body in songs.items():\n",
    "        tokens = tokenize_lyrics(body)             \n",
    "        rows.append({\"artist\": artist, \"title\": title, \"length\": len(tokens)})\n",
    "\n",
    "df_lengths = pd.DataFrame(rows)\n",
    "print(df_lengths.head())\n",
    "print(df_lengths.groupby(\"artist\")[\"length\"].describe())"
   ]
  }
 ],
 "metadata": {
  "kernelspec": {
   "display_name": "Python 3 (ipykernel)",
   "language": "python",
   "name": "python3"
  },
  "language_info": {
   "codemirror_mode": {
    "name": "ipython",
    "version": 3
   },
   "file_extension": ".py",
   "mimetype": "text/x-python",
   "name": "python",
   "nbconvert_exporter": "python",
   "pygments_lexer": "ipython3",
   "version": "3.13.7"
  }
 },
 "nbformat": 4,
 "nbformat_minor": 5
}
